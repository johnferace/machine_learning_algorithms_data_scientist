{
 "cells": [
  {
   "cell_type": "markdown",
   "metadata": {},
   "source": [
    "## Polynomial Regression\n",
    "\n",
    "In this notebook we will make a Polynomial Regression, What if your data is more complex than a straight line?, for this we can use a linear model to fit nonlinear data. A simple way to do this is to add powers of each feature as new features, then train a linear model on this extended set of features. This technique is called Polynomial Regression.\n",
    "\n",
    "There are two factors when determining model performance: overfitting and underfitting. Overfitting is when the model is too complex and does well on the training data but not on the test data. Underfitting is when the model is too simple and performs poorly on the training and testing data sets.\n",
    "\n",
    "Thus we will perform a Polynomial Regression transformation t deal with this problem."
   ]
  },
  {
   "cell_type": "code",
   "execution_count": 1,
   "metadata": {},
   "outputs": [],
   "source": [
    "# Surpress warnings:\n",
    "def warn(*args, **kwargs):\n",
    "    pass\n",
    "import warnings\n",
    "warnings.warn = warn"
   ]
  },
  {
   "cell_type": "code",
   "execution_count": 2,
   "metadata": {},
   "outputs": [],
   "source": [
    "import pandas as pd\n",
    "import numpy as np \n",
    "\n",
    "import seaborn as sns \n",
    "import matplotlib.pylab as plt\n",
    "%matplotlib inline\n",
    "\n",
    "from sklearn.model_selection import train_test_split\n",
    "from sklearn.linear_model import LinearRegression\n",
    "from sklearn.preprocessing import PolynomialFeatures\n",
    "from sklearn.metrics import mean_squared_error, r2_score\n",
    "from sklearn.preprocessing import StandardScaler, MinMaxScaler, scale\n",
    "from sklearn.feature_selection import SelectKBest, f_regression\n",
    "from sklearn.pipeline import Pipeline\n",
    "from sklearn.model_selection import GridSearchCV"
   ]
  },
  {
   "cell_type": "code",
   "execution_count": 3,
   "metadata": {},
   "outputs": [],
   "source": [
    "#This function will calculate the R2 metric on each feature given the input of a model\n",
    "\n",
    "def get_R2_features(model,test=True): \n",
    "    #X: global  \n",
    "    features=list(X)\n",
    "    features.remove(\"three\")\n",
    "    \n",
    "    R_2_train=[]\n",
    "    R_2_test=[]\n",
    "\n",
    "    for feature in features:\n",
    "        model.fit(X_train[[feature]],y_train)\n",
    "        \n",
    "        R_2_test.append(model.score(X_test[[feature]],y_test))\n",
    "        R_2_train.append(model.score(X_train[[feature]],y_train))\n",
    "        \n",
    "    plt.bar(features,R_2_train,label=\"Train\")\n",
    "    plt.bar(features,R_2_test,label=\"Test\")\n",
    "    plt.xticks(rotation=90)\n",
    "    plt.ylabel(\"$R^2$\")\n",
    "    plt.legend()\n",
    "    plt.show()\n",
    "    print(\"Training R2 mean value {} Testing R2 mean value {} \".format(str(np.mean(R_2_train)),str(np.mean(R_2_test))) )\n",
    "    print(\"Training R2 max value {} Testing R2 max value {} \".format(str(np.max(R_2_train)),str(np.max(R_2_test))) )"
   ]
  },
  {
   "cell_type": "markdown",
   "metadata": {},
   "source": [
    "The function below will plot the distribution of two inputs.\n"
   ]
  },
  {
   "cell_type": "code",
   "execution_count": 4,
   "metadata": {},
   "outputs": [],
   "source": [
    "#This function below will plot the distribution of two inputs\n",
    "\n",
    "def  plot_dis(y,yhat):\n",
    "    \n",
    "    plt.figure()\n",
    "    ax1 = sns.distplot(y, hist=False, color=\"g\", label=\"Actual Value\")\n",
    "    sns.distplot(yhat, hist=False, color=\"r\", label=\"Fitted Values\" , ax=ax1)\n",
    "    plt.legend()\n",
    "\n",
    "    plt.title('Actual vs Fitted Values')\n",
    "    plt.xlabel('Price (in dollars)')\n",
    "    plt.ylabel('Proportion of Cars')\n",
    "\n",
    "    plt.show()\n",
    "    plt.close()"
   ]
  },
  {
   "cell_type": "markdown",
   "metadata": {},
   "source": [
    "## Reading and understanding our data\n"
   ]
  },
  {
   "cell_type": "markdown",
   "metadata": {},
   "source": [
    "For this project we will be using the car sales dataset, hosted on IBM Cloud object storage. This dataset can also be found and downloaded from [kaggle.com](https://www.kaggle.com/datasets/goyalshalini93/car-data?utm_medium=Exinfluencer&utm_source=Exinfluencer&utm_content=000026UJ&utm_term=10006555&utm_id=NA-SkillsNetwork-Channel-SkillsNetworkCoursesIBMML240ENSkillsNetwork34171862-2022-01-01), an open public data source.\n",
    "The dataset contains all the information about cars, a name of a manufacturer, all car's technical parameters and a sale price of a car.\n",
    "\n",
    "This dataset has already been pre-cleaned and encoded (using one-hot and label encoders) in the Linear Regression Notebook, which you can find in this same repository.\n"
   ]
  },
  {
   "cell_type": "markdown",
   "metadata": {},
   "source": [
    "Let's first read the data and check how many rows and columns we have."
   ]
  },
  {
   "cell_type": "code",
   "execution_count": 5,
   "metadata": {},
   "outputs": [
    {
     "data": {
      "text/html": [
       "<div>\n",
       "<style scoped>\n",
       "    .dataframe tbody tr th:only-of-type {\n",
       "        vertical-align: middle;\n",
       "    }\n",
       "\n",
       "    .dataframe tbody tr th {\n",
       "        vertical-align: top;\n",
       "    }\n",
       "\n",
       "    .dataframe thead th {\n",
       "        text-align: right;\n",
       "    }\n",
       "</style>\n",
       "<table border=\"1\" class=\"dataframe\">\n",
       "  <thead>\n",
       "    <tr style=\"text-align: right;\">\n",
       "      <th></th>\n",
       "      <th>diesel</th>\n",
       "      <th>gas</th>\n",
       "      <th>std</th>\n",
       "      <th>turbo</th>\n",
       "      <th>convertible</th>\n",
       "      <th>hardtop</th>\n",
       "      <th>hatchback</th>\n",
       "      <th>sedan</th>\n",
       "      <th>wagon</th>\n",
       "      <th>4wd</th>\n",
       "      <th>...</th>\n",
       "      <th>wheelbase</th>\n",
       "      <th>curbweight</th>\n",
       "      <th>enginesize</th>\n",
       "      <th>boreratio</th>\n",
       "      <th>horsepower</th>\n",
       "      <th>carlength</th>\n",
       "      <th>carwidth</th>\n",
       "      <th>citympg</th>\n",
       "      <th>highwaympg</th>\n",
       "      <th>price</th>\n",
       "    </tr>\n",
       "  </thead>\n",
       "  <tbody>\n",
       "    <tr>\n",
       "      <th>0</th>\n",
       "      <td>0.0</td>\n",
       "      <td>1.0</td>\n",
       "      <td>1.0</td>\n",
       "      <td>0.0</td>\n",
       "      <td>1.0</td>\n",
       "      <td>0.0</td>\n",
       "      <td>0.0</td>\n",
       "      <td>0.0</td>\n",
       "      <td>0.0</td>\n",
       "      <td>0.0</td>\n",
       "      <td>...</td>\n",
       "      <td>88.6</td>\n",
       "      <td>2548.0</td>\n",
       "      <td>130.0</td>\n",
       "      <td>3.47</td>\n",
       "      <td>111.0</td>\n",
       "      <td>168.8</td>\n",
       "      <td>64.1</td>\n",
       "      <td>21.0</td>\n",
       "      <td>27.0</td>\n",
       "      <td>13495.0</td>\n",
       "    </tr>\n",
       "    <tr>\n",
       "      <th>1</th>\n",
       "      <td>0.0</td>\n",
       "      <td>1.0</td>\n",
       "      <td>1.0</td>\n",
       "      <td>0.0</td>\n",
       "      <td>1.0</td>\n",
       "      <td>0.0</td>\n",
       "      <td>0.0</td>\n",
       "      <td>0.0</td>\n",
       "      <td>0.0</td>\n",
       "      <td>0.0</td>\n",
       "      <td>...</td>\n",
       "      <td>88.6</td>\n",
       "      <td>2548.0</td>\n",
       "      <td>130.0</td>\n",
       "      <td>3.47</td>\n",
       "      <td>111.0</td>\n",
       "      <td>168.8</td>\n",
       "      <td>64.1</td>\n",
       "      <td>21.0</td>\n",
       "      <td>27.0</td>\n",
       "      <td>16500.0</td>\n",
       "    </tr>\n",
       "    <tr>\n",
       "      <th>2</th>\n",
       "      <td>0.0</td>\n",
       "      <td>1.0</td>\n",
       "      <td>1.0</td>\n",
       "      <td>0.0</td>\n",
       "      <td>0.0</td>\n",
       "      <td>0.0</td>\n",
       "      <td>1.0</td>\n",
       "      <td>0.0</td>\n",
       "      <td>0.0</td>\n",
       "      <td>0.0</td>\n",
       "      <td>...</td>\n",
       "      <td>94.5</td>\n",
       "      <td>2823.0</td>\n",
       "      <td>152.0</td>\n",
       "      <td>2.68</td>\n",
       "      <td>154.0</td>\n",
       "      <td>171.2</td>\n",
       "      <td>65.5</td>\n",
       "      <td>19.0</td>\n",
       "      <td>26.0</td>\n",
       "      <td>16500.0</td>\n",
       "    </tr>\n",
       "    <tr>\n",
       "      <th>3</th>\n",
       "      <td>0.0</td>\n",
       "      <td>1.0</td>\n",
       "      <td>1.0</td>\n",
       "      <td>0.0</td>\n",
       "      <td>0.0</td>\n",
       "      <td>0.0</td>\n",
       "      <td>0.0</td>\n",
       "      <td>1.0</td>\n",
       "      <td>0.0</td>\n",
       "      <td>0.0</td>\n",
       "      <td>...</td>\n",
       "      <td>99.8</td>\n",
       "      <td>2337.0</td>\n",
       "      <td>109.0</td>\n",
       "      <td>3.19</td>\n",
       "      <td>102.0</td>\n",
       "      <td>176.6</td>\n",
       "      <td>66.2</td>\n",
       "      <td>24.0</td>\n",
       "      <td>30.0</td>\n",
       "      <td>13950.0</td>\n",
       "    </tr>\n",
       "    <tr>\n",
       "      <th>4</th>\n",
       "      <td>0.0</td>\n",
       "      <td>1.0</td>\n",
       "      <td>1.0</td>\n",
       "      <td>0.0</td>\n",
       "      <td>0.0</td>\n",
       "      <td>0.0</td>\n",
       "      <td>0.0</td>\n",
       "      <td>1.0</td>\n",
       "      <td>0.0</td>\n",
       "      <td>1.0</td>\n",
       "      <td>...</td>\n",
       "      <td>99.4</td>\n",
       "      <td>2824.0</td>\n",
       "      <td>136.0</td>\n",
       "      <td>3.19</td>\n",
       "      <td>115.0</td>\n",
       "      <td>176.6</td>\n",
       "      <td>66.4</td>\n",
       "      <td>18.0</td>\n",
       "      <td>22.0</td>\n",
       "      <td>17450.0</td>\n",
       "    </tr>\n",
       "  </tbody>\n",
       "</table>\n",
       "<p>5 rows × 36 columns</p>\n",
       "</div>"
      ],
      "text/plain": [
       "   diesel  gas  std  turbo  convertible  hardtop  hatchback  sedan  wagon  \\\n",
       "0     0.0  1.0  1.0    0.0          1.0      0.0        0.0    0.0    0.0   \n",
       "1     0.0  1.0  1.0    0.0          1.0      0.0        0.0    0.0    0.0   \n",
       "2     0.0  1.0  1.0    0.0          0.0      0.0        1.0    0.0    0.0   \n",
       "3     0.0  1.0  1.0    0.0          0.0      0.0        0.0    1.0    0.0   \n",
       "4     0.0  1.0  1.0    0.0          0.0      0.0        0.0    1.0    0.0   \n",
       "\n",
       "   4wd  ...  wheelbase  curbweight  enginesize  boreratio  horsepower  \\\n",
       "0  0.0  ...       88.6      2548.0       130.0       3.47       111.0   \n",
       "1  0.0  ...       88.6      2548.0       130.0       3.47       111.0   \n",
       "2  0.0  ...       94.5      2823.0       152.0       2.68       154.0   \n",
       "3  0.0  ...       99.8      2337.0       109.0       3.19       102.0   \n",
       "4  1.0  ...       99.4      2824.0       136.0       3.19       115.0   \n",
       "\n",
       "   carlength  carwidth  citympg  highwaympg    price  \n",
       "0      168.8      64.1     21.0        27.0  13495.0  \n",
       "1      168.8      64.1     21.0        27.0  16500.0  \n",
       "2      171.2      65.5     19.0        26.0  16500.0  \n",
       "3      176.6      66.2     24.0        30.0  13950.0  \n",
       "4      176.6      66.4     18.0        22.0  17450.0  \n",
       "\n",
       "[5 rows x 36 columns]"
      ]
     },
     "execution_count": 5,
     "metadata": {},
     "output_type": "execute_result"
    }
   ],
   "source": [
    "data = pd.read_csv('encoded_car_data.csv')\n",
    "data.head()\n",
    "# data.shape #(205, 36)"
   ]
  },
  {
   "cell_type": "markdown",
   "metadata": {},
   "source": [
    "Now we can find more information about the features and types using the \"info()\"  method."
   ]
  },
  {
   "cell_type": "code",
   "execution_count": 6,
   "metadata": {
    "scrolled": true
   },
   "outputs": [
    {
     "name": "stdout",
     "output_type": "stream",
     "text": [
      "<class 'pandas.core.frame.DataFrame'>\n",
      "RangeIndex: 205 entries, 0 to 204\n",
      "Data columns (total 36 columns):\n",
      " #   Column       Non-Null Count  Dtype  \n",
      "---  ------       --------------  -----  \n",
      " 0   diesel       205 non-null    float64\n",
      " 1   gas          205 non-null    float64\n",
      " 2   std          205 non-null    float64\n",
      " 3   turbo        205 non-null    float64\n",
      " 4   convertible  205 non-null    float64\n",
      " 5   hardtop      205 non-null    float64\n",
      " 6   hatchback    205 non-null    float64\n",
      " 7   sedan        205 non-null    float64\n",
      " 8   wagon        205 non-null    float64\n",
      " 9   4wd          205 non-null    float64\n",
      " 10  fwd          205 non-null    float64\n",
      " 11  rwd          205 non-null    float64\n",
      " 12  dohc         205 non-null    float64\n",
      " 13  dohcv        205 non-null    float64\n",
      " 14  l            205 non-null    float64\n",
      " 15  ohc          205 non-null    float64\n",
      " 16  ohcf         205 non-null    float64\n",
      " 17  ohcv         205 non-null    float64\n",
      " 18  rotor        205 non-null    float64\n",
      " 19  eight        205 non-null    float64\n",
      " 20  five         205 non-null    float64\n",
      " 21  four         205 non-null    float64\n",
      " 22  six          205 non-null    float64\n",
      " 23  three        205 non-null    float64\n",
      " 24  twelve       205 non-null    float64\n",
      " 25  two          205 non-null    float64\n",
      " 26  wheelbase    205 non-null    float64\n",
      " 27  curbweight   205 non-null    float64\n",
      " 28  enginesize   205 non-null    float64\n",
      " 29  boreratio    205 non-null    float64\n",
      " 30  horsepower   205 non-null    float64\n",
      " 31  carlength    205 non-null    float64\n",
      " 32  carwidth     205 non-null    float64\n",
      " 33  citympg      205 non-null    float64\n",
      " 34  highwaympg   205 non-null    float64\n",
      " 35  price        205 non-null    float64\n",
      "dtypes: float64(36)\n",
      "memory usage: 57.8 KB\n"
     ]
    }
   ],
   "source": [
    "data.info()"
   ]
  },
  {
   "cell_type": "markdown",
   "metadata": {},
   "source": [
    "We have 205 rows, 26 features and since we have for each features 205 non null entries then there is no missing values, our target variable is the feature \"Price\" and the rest of the features are the predictor variables, we can also see we have 10 object data types, 8 int64 and 8 float64 data types.\n",
    "\n",
    "Before we begin our polynomial analysis, let's see graphically some of the relationships between our features and the target variable \"price\"."
   ]
  },
  {
   "cell_type": "code",
   "execution_count": 7,
   "metadata": {},
   "outputs": [
    {
     "data": {
      "text/plain": [
       "<seaborn.axisgrid.FacetGrid at 0x1ce2b93b0d0>"
      ]
     },
     "execution_count": 7,
     "metadata": {},
     "output_type": "execute_result"
    },
    {
     "data": {
      "image/png": "[encoded data removed]",
      "text/plain": [
       "<Figure size 360x360 with 1 Axes>"
      ]
     },
     "metadata": {
      "needs_background": "light"
     },
     "output_type": "display_data"
    }
   ],
   "source": [
    "sns.lmplot(x = 'curbweight', y = 'price', data = data, order=2) "
   ]
  },
  {
   "cell_type": "code",
   "execution_count": 8,
   "metadata": {},
   "outputs": [
    {
     "data": {
      "text/plain": [
       "<seaborn.axisgrid.FacetGrid at 0x1ce2ba14eb0>"
      ]
     },
     "execution_count": 8,
     "metadata": {},
     "output_type": "execute_result"
    },
    {
     "data": {
      "image/png": "[encoded data removed]",
      "text/plain": [
       "<Figure size 360x360 with 1 Axes>"
      ]
     },
     "metadata": {
      "needs_background": "light"
     },
     "output_type": "display_data"
    }
   ],
   "source": [
    "sns.lmplot(x = 'carlength', y = 'price', data = data, order=2)"
   ]
  },
  {
   "cell_type": "markdown",
   "metadata": {},
   "source": [
    "As we saw the relationship is nonlinear, therefore we cannot fit a linear model, the relationship is more curved."
   ]
  },
  {
   "cell_type": "markdown",
   "metadata": {},
   "source": [
    "Let's first split our data into X features and y target."
   ]
  },
  {
   "cell_type": "code",
   "execution_count": 9,
   "metadata": {},
   "outputs": [],
   "source": [
    "X = data.drop('price', axis=1)\n",
    "y = data.price"
   ]
  },
  {
   "cell_type": "markdown",
   "metadata": {},
   "source": [
    "Now, let's split our data, into the training and testing sets, we'll save 30% of the data into the test set, and the remaining data for training.\n"
   ]
  },
  {
   "cell_type": "code",
   "execution_count": 10,
   "metadata": {},
   "outputs": [
    {
     "name": "stdout",
     "output_type": "stream",
     "text": [
      "Shape of test: (62, 35)\n",
      "Shape of training: (143, 35)\n"
     ]
    }
   ],
   "source": [
    "X_train, X_test, y_train, y_test = train_test_split(X,y, test_size=0.3, random_state=42)\n",
    "print(\"Shape of test:\", X_test.shape)\n",
    "print(\"Shape of training:\", X_train.shape)"
   ]
  },
  {
   "cell_type": "markdown",
   "metadata": {},
   "source": [
    "Let's create a LinearRegression model."
   ]
  },
  {
   "cell_type": "code",
   "execution_count": 11,
   "metadata": {},
   "outputs": [],
   "source": [
    "lm = LinearRegression()"
   ]
  },
  {
   "cell_type": "markdown",
   "metadata": {},
   "source": [
    "Now, let's fit the model with our features X_train and y_train data.\n"
   ]
  },
  {
   "cell_type": "code",
   "execution_count": 12,
   "metadata": {},
   "outputs": [],
   "source": [
    "lm.fit(X_train, y_train);"
   ]
  },
  {
   "cell_type": "markdown",
   "metadata": {},
   "source": [
    "We apply predict() function on the testing data set.\n"
   ]
  },
  {
   "cell_type": "code",
   "execution_count": 13,
   "metadata": {},
   "outputs": [],
   "source": [
    "predicted = lm.predict(X_test)"
   ]
  },
  {
   "cell_type": "markdown",
   "metadata": {},
   "source": [
    "Let's calculate the R2(coefficient of determination) on both, training and testing data sets."
   ]
  },
  {
   "cell_type": "code",
   "execution_count": 14,
   "metadata": {},
   "outputs": [
    {
     "name": "stdout",
     "output_type": "stream",
     "text": [
      "R2 on training  data  0.9262005120114907\n",
      "R2 on testing data  0.8500549812550089\n"
     ]
    }
   ],
   "source": [
    "print(\"R2 on training  data \",lm.score(X_train, y_train))\n",
    "print(\"R2 on testing data \",lm.score(X_test,y_test))"
   ]
  },
  {
   "cell_type": "markdown",
   "metadata": {},
   "source": [
    "Although we have a high R2 coefficient for both the training data and the test data, we can see that there is a small difference between the two and that means we may have a slightly overfitting model."
   ]
  },
  {
   "cell_type": "markdown",
   "metadata": {},
   "source": [
    "We can plot distributions of the predicted values versus the actual values.\n"
   ]
  },
  {
   "cell_type": "code",
   "execution_count": 15,
   "metadata": {
    "scrolled": false
   },
   "outputs": [
    {
     "data": {
      "image/png": "[encoded data removed]",
      "text/plain": [
       "<Figure size 432x288 with 1 Axes>"
      ]
     },
     "metadata": {
      "needs_background": "light"
     },
     "output_type": "display_data"
    }
   ],
   "source": [
    "plot_dis(y_test,predicted)"
   ]
  },
  {
   "cell_type": "markdown",
   "metadata": {},
   "source": [
    "We can see in the plot above that our data prediction slightly deviates from the actual data."
   ]
  },
  {
   "cell_type": "markdown",
   "metadata": {},
   "source": [
    "Below, we will view the estimated coefficients for the linear regression problem.\n"
   ]
  },
  {
   "cell_type": "code",
   "execution_count": 16,
   "metadata": {
    "scrolled": true
   },
   "outputs": [
    {
     "data": {
      "text/plain": [
       "{'diesel': -1348733091931160.2,\n",
       " 'gas': -1348733091932830.8,\n",
       " 'std': 328.09636017791996,\n",
       " 'turbo': -379.0415743673835,\n",
       " 'convertible': 1754.235437293915,\n",
       " 'hardtop': 3038.425405937796,\n",
       " 'hatchback': -1726.915116536612,\n",
       " 'sedan': -655.3274707371338,\n",
       " 'wagon': -2409.074307082546,\n",
       " '4wd': -632.1716184519332,\n",
       " 'fwd': -321.51861763260297,\n",
       " 'rwd': 954.3270108498389,\n",
       " 'dohc': 2460.105523267882,\n",
       " 'dohcv': -13356.354667660296,\n",
       " 'l': 2135.3973376499416,\n",
       " 'ohc': 4619.6241388433,\n",
       " 'ohcf': 6075.189965805647,\n",
       " 'ohcv': -2664.358428925572,\n",
       " 'rotor': 729.6254714929158,\n",
       " 'eight': 9205.568023694754,\n",
       " 'five': -2679.9390212080825,\n",
       " 'four': -5283.668295516305,\n",
       " 'six': -2115.911567126084,\n",
       " 'three': 0.0029296875,\n",
       " 'twelve': 144.64806138435134,\n",
       " 'two': 729.6342605554158,\n",
       " 'wheelbase': 99.61247779746205,\n",
       " 'curbweight': 4.789142482173508,\n",
       " 'enginesize': 23.503149010125764,\n",
       " 'boreratio': -1809.3275275247115,\n",
       " 'horsepower': 68.62591613088244,\n",
       " 'carlength': -63.72227335557646,\n",
       " 'carwidth': 577.0394096646708,\n",
       " 'citympg': -159.3671875,\n",
       " 'highwaympg': 142.845703125}"
      ]
     },
     "execution_count": 16,
     "metadata": {},
     "output_type": "execute_result"
    }
   ],
   "source": [
    "{col:coef for col,coef in zip(X.columns, lm.coef_)}"
   ]
  },
  {
   "cell_type": "markdown",
   "metadata": {},
   "source": [
    "As we see, the first two coefficients are too large to plot, so we'll drop them and plot the rest of the coefficients.\n"
   ]
  },
  {
   "cell_type": "code",
   "execution_count": 17,
   "metadata": {},
   "outputs": [
    {
     "data": {
      "image/png": "[encoded data removed]",
      "text/plain": [
       "<Figure size 432x288 with 1 Axes>"
      ]
     },
     "metadata": {
      "needs_background": "light"
     },
     "output_type": "display_data"
    }
   ],
   "source": [
    "plt.bar(X.columns[2:],abs(lm.coef_[2:]))\n",
    "plt.xticks(rotation=90)\n",
    "plt.ylabel(\"coefficients\")\n",
    "plt.show()"
   ]
  },
  {
   "cell_type": "markdown",
   "metadata": {},
   "source": [
    "Usually, we can interpret the lager coefficients as having more importance on the prediction, but this is not always the case, so let's look at the individual features.\n"
   ]
  },
  {
   "cell_type": "markdown",
   "metadata": {},
   "source": [
    "We can train the model and plot our R2 for each of the features on the training and testing data sets, using the function get_R2_features."
   ]
  },
  {
   "cell_type": "code",
   "execution_count": 18,
   "metadata": {},
   "outputs": [
    {
     "data": {
      "image/png": "[encoded data removed]",
      "text/plain": [
       "<Figure size 432x288 with 1 Axes>"
      ]
     },
     "metadata": {
      "needs_background": "light"
     },
     "output_type": "display_data"
    },
    {
     "name": "stdout",
     "output_type": "stream",
     "text": [
      "Training R2 mean value 0.21817773426877915 Testing R2 mean value 0.18241493035139267 \n",
      "Training R2 max value 0.7686929078033781 Testing R2 max value 0.7534902447506853 \n"
     ]
    }
   ],
   "source": [
    "get_R2_features(lm)"
   ]
  },
  {
   "cell_type": "markdown",
   "metadata": {},
   "source": [
    "From the above plot, we see that some individual features perform similarly to  using all the features (we removed the feature three ), in  addition, we see that smaller coefficients seem to correspond to a larger R2, therefore  larger coefficients correspond to overfiting.\n"
   ]
  },
  {
   "cell_type": "markdown",
   "metadata": {},
   "source": [
    "Now, we will try to do the same like above but now we will calculate the R2 coefficent using the object Pipeline for Linear Regression and we will apply the function StandardSacler() to all features, then we will plot the real data with the predicted data."
   ]
  },
  {
   "cell_type": "code",
   "execution_count": 19,
   "metadata": {
    "scrolled": true
   },
   "outputs": [
    {
     "name": "stdout",
     "output_type": "stream",
     "text": [
      "R^2 on training data  0.9262722224294516\n",
      "R^2 on testing data  0.8419174509630336\n"
     ]
    },
    {
     "data": {
      "image/png": "[encoded data removed]",
      "text/plain": [
       "<Figure size 432x288 with 1 Axes>"
      ]
     },
     "metadata": {
      "needs_background": "light"
     },
     "output_type": "display_data"
    }
   ],
   "source": [
    "pipe = Pipeline([('ss',StandardScaler() ),('lr', LinearRegression())]) \n",
    "pipe.fit(X_train,y_train) \n",
    "print(\"R^2 on training data \", pipe.score(X_train, y_train)) \n",
    "print(\"R^2 on testing data \", pipe.score(X_test,y_test)) \n",
    "predicted = pipe.predict(X_test) \n",
    "plot_dis(y_test,predicted)"
   ]
  },
  {
   "cell_type": "markdown",
   "metadata": {},
   "source": [
    "As we can see above, there is not much difference between the model fitted with the data that were standardized and the data that were not standardized. "
   ]
  },
  {
   "cell_type": "markdown",
   "metadata": {},
   "source": [
    "## Polynomial Features\n"
   ]
  },
  {
   "cell_type": "markdown",
   "metadata": {},
   "source": [
    "Below we will perform a second degree (degree=2) polynomial transformation to increase the complexity of the model."
   ]
  },
  {
   "cell_type": "code",
   "execution_count": 20,
   "metadata": {},
   "outputs": [],
   "source": [
    "poly_features = PolynomialFeatures(degree=2, include_bias=True)"
   ]
  },
  {
   "cell_type": "markdown",
   "metadata": {},
   "source": [
    "Now, we transform the training and testing data sets.\n"
   ]
  },
  {
   "cell_type": "code",
   "execution_count": 21,
   "metadata": {},
   "outputs": [],
   "source": [
    "X_train_poly = poly_features.fit_transform(X_train)\n",
    "X_test_poly = poly_features.transform(X_test)"
   ]
  },
  {
   "cell_type": "markdown",
   "metadata": {},
   "source": [
    "X_train_poly and X_test_poly now contain the original features of X plus the square of these features and the cross-terms combination.\n",
    "Let's check the shape of the newly created train and test sets.\n"
   ]
  },
  {
   "cell_type": "code",
   "execution_count": 22,
   "metadata": {},
   "outputs": [
    {
     "name": "stdout",
     "output_type": "stream",
     "text": [
      "X_train_poly: (143, 666)    X_test_poly: (62, 666)\n"
     ]
    }
   ],
   "source": [
    "print(\"X_train_poly:\", X_train_poly.shape, \"   X_test_poly:\", X_test_poly.shape)"
   ]
  },
  {
   "cell_type": "markdown",
   "metadata": {},
   "source": [
    "Altogether, we have 665 features. Now, we fit the model with the newly created features.\n"
   ]
  },
  {
   "cell_type": "code",
   "execution_count": 23,
   "metadata": {},
   "outputs": [],
   "source": [
    "lm = LinearRegression()\n",
    "lm.fit(X_train_poly, y_train)\n",
    "predicted = lm.predict(X_train_poly) #make predictions"
   ]
  },
  {
   "cell_type": "markdown",
   "metadata": {},
   "source": [
    "Now, we can ckeck the R2 on both, training and testing data sets."
   ]
  },
  {
   "cell_type": "code",
   "execution_count": 24,
   "metadata": {
    "scrolled": true
   },
   "outputs": [
    {
     "name": "stdout",
     "output_type": "stream",
     "text": [
      "R2 on training data: 0.998531849797587\n",
      "R2 on testing data: -36729.95790886328\n"
     ]
    }
   ],
   "source": [
    "print(\"R2 on training data:\", lm.score(X_train_poly, y_train))\n",
    "print(\"R2 on testing data:\", lm.score(X_test_poly,y_test))"
   ]
  },
  {
   "cell_type": "markdown",
   "metadata": {},
   "source": [
    "We see the model has a high negative R2 on the test data set, this is sign of overfiting.\n"
   ]
  },
  {
   "cell_type": "markdown",
   "metadata": {},
   "source": [
    "\n",
    "Now, we will use the Pipeline module to create a pipeline that simplifies the steps, we will not standardize features."
   ]
  },
  {
   "cell_type": "code",
   "execution_count": 25,
   "metadata": {},
   "outputs": [
    {
     "data": {
      "text/plain": [
       "Pipeline(steps=[('polynomial', PolynomialFeatures(include_bias=False)),\n",
       "                ('model', LinearRegression())])"
      ]
     },
     "execution_count": 25,
     "metadata": {},
     "output_type": "execute_result"
    }
   ],
   "source": [
    "Input=[ ('polynomial', PolynomialFeatures(include_bias=False,degree=2)), ('model', LinearRegression())]\n",
    "pipe=Pipeline(Input)\n",
    "pipe.fit(X_train, y_train)"
   ]
  },
  {
   "cell_type": "markdown",
   "metadata": {},
   "source": [
    "We can see the results are identical.\n"
   ]
  },
  {
   "cell_type": "code",
   "execution_count": 26,
   "metadata": {},
   "outputs": [
    {
     "name": "stdout",
     "output_type": "stream",
     "text": [
      "R2 on training  data: 0.9985318497975881\n",
      "R2 on testing data: -36729.95800645703\n"
     ]
    }
   ],
   "source": [
    "print(\"R2 on training  data:\", pipe.score(X_train, y_train))\n",
    "print(\"R2 on testing data:\", pipe.score(X_test,y_test))"
   ]
  },
  {
   "cell_type": "markdown",
   "metadata": {},
   "source": [
    "We can see that our model is highly overfitted, due to the score R2 in the trining set. "
   ]
  },
  {
   "cell_type": "markdown",
   "metadata": {},
   "source": [
    "Now, in order to avoid searching for the right parameters in this case only we will search fr the degree, we will use the GridSearchCV function along with the CrossValidation function. \n",
    "First, we create PolynomialFeatures() pipeline."
   ]
  },
  {
   "cell_type": "code",
   "execution_count": 27,
   "metadata": {},
   "outputs": [],
   "source": [
    "Input=[ ('polynomial', PolynomialFeatures(include_bias=False,degree=2)), ('model',LinearRegression())]\n",
    "pipe=Pipeline(Input)"
   ]
  },
  {
   "cell_type": "markdown",
   "metadata": {},
   "source": [
    "\n",
    "We also create a dictionary of paramters values, the name followed by the parameters."
   ]
  },
  {
   "cell_type": "code",
   "execution_count": 28,
   "metadata": {},
   "outputs": [],
   "source": [
    "param_grid = {\"polynomial__degree\": [1, 2, 3, 4]}# \"model__normalize\":[True, False]"
   ]
  },
  {
   "cell_type": "markdown",
   "metadata": {},
   "source": [
    "We create the model object and after we fit with the values, X_train and y_train."
   ]
  },
  {
   "cell_type": "code",
   "execution_count": 29,
   "metadata": {},
   "outputs": [
    {
     "data": {
      "text/plain": [
       "Pipeline(steps=[('polynomial', PolynomialFeatures(include_bias=False)),\n",
       "                ('model', LinearRegression())])"
      ]
     },
     "execution_count": 29,
     "metadata": {},
     "output_type": "execute_result"
    }
   ],
   "source": [
    "search = GridSearchCV(pipe, param_grid, n_jobs=1)\n",
    "\n",
    "pipe.fit(X_train, y_train)"
   ]
  },
  {
   "cell_type": "markdown",
   "metadata": {},
   "source": [
    "Next, with the object search fit the values X_test and y_test to find the best parameter values on the validation data."
   ]
  },
  {
   "cell_type": "code",
   "execution_count": 30,
   "metadata": {},
   "outputs": [
    {
     "data": {
      "text/plain": [
       "GridSearchCV(estimator=Pipeline(steps=[('polynomial',\n",
       "                                        PolynomialFeatures(include_bias=False)),\n",
       "                                       ('model', LinearRegression())]),\n",
       "             n_jobs=1, param_grid={'polynomial__degree': [1, 2, 3, 4]})"
      ]
     },
     "execution_count": 30,
     "metadata": {},
     "output_type": "execute_result"
    }
   ],
   "source": [
    "search.fit(X_test, y_test)"
   ]
  },
  {
   "cell_type": "markdown",
   "metadata": {},
   "source": [
    "We assign the search.best_estimator_ object to \"best\" to obtain the best parameters."
   ]
  },
  {
   "cell_type": "code",
   "execution_count": 31,
   "metadata": {},
   "outputs": [
    {
     "data": {
      "text/plain": [
       "Pipeline(steps=[('polynomial',\n",
       "                 PolynomialFeatures(degree=1, include_bias=False)),\n",
       "                ('model', LinearRegression())])"
      ]
     },
     "execution_count": 31,
     "metadata": {},
     "output_type": "execute_result"
    }
   ],
   "source": [
    "best=search.best_estimator_\n",
    "best"
   ]
  },
  {
   "cell_type": "markdown",
   "metadata": {},
   "source": [
    "We see the degree is one and normalize is True"
   ]
  },
  {
   "cell_type": "markdown",
   "metadata": {},
   "source": [
    "Now, we test our model on the test data to see if the best score is correct.\n"
   ]
  },
  {
   "cell_type": "code",
   "execution_count": 32,
   "metadata": {},
   "outputs": [
    {
     "data": {
      "text/plain": [
       "0.9678749047353388"
      ]
     },
     "execution_count": 32,
     "metadata": {},
     "output_type": "execute_result"
    }
   ],
   "source": [
    "best.score(X_test,y_test)"
   ]
  },
  {
   "cell_type": "markdown",
   "metadata": {},
   "source": [
    "We can see that our R2 score is very high."
   ]
  },
  {
   "cell_type": "markdown",
   "metadata": {},
   "source": [
    "Finally, we can plot a distribution of the predicted values versus the actual values.\n"
   ]
  },
  {
   "cell_type": "code",
   "execution_count": 33,
   "metadata": {},
   "outputs": [
    {
     "data": {
      "image/png": "[encoded data removed]",
      "text/plain": [
       "<Figure size 432x288 with 1 Axes>"
      ]
     },
     "metadata": {
      "needs_background": "light"
     },
     "output_type": "display_data"
    }
   ],
   "source": [
    "predicted=best.predict(X_test)\n",
    "plot_dis(y_test,predicted)"
   ]
  },
  {
   "cell_type": "markdown",
   "metadata": {},
   "source": [
    "As we can see we've find the best parameter, and our model is almost perfect.\n"
   ]
  }
 ],
 "metadata": {
  "kernelspec": {
   "display_name": "Python 3",
   "language": "python",
   "name": "python3"
  },
  "language_info": {
   "codemirror_mode": {
    "name": "ipython",
    "version": 3
   },
   "file_extension": ".py",
   "mimetype": "text/x-python",
   "name": "python",
   "nbconvert_exporter": "python",
   "pygments_lexer": "ipython3",
   "version": "3.8.5"
  }
 },
 "nbformat": 4,
 "nbformat_minor": 4
}
